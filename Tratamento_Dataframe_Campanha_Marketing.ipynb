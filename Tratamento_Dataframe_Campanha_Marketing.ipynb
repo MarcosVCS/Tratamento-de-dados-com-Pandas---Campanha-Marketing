{
  "nbformat": 4,
  "nbformat_minor": 0,
  "metadata": {
    "colab": {
      "provenance": []
    },
    "kernelspec": {
      "name": "python3",
      "display_name": "Python 3"
    },
    "language_info": {
      "name": "python"
    }
  },
  "cells": [
    {
      "cell_type": "code",
      "source": [
        "# Instalando no Google Colab biblioteca Pandera\n",
        "\n",
        "!pip install pandera"
      ],
      "metadata": {
        "id": "Gfit9nB66RjQ"
      },
      "execution_count": null,
      "outputs": []
    },
    {
      "cell_type": "code",
      "execution_count": 14,
      "metadata": {
        "id": "i-EAY7nA5AuH"
      },
      "outputs": [],
      "source": [
        "# Importando bibliotecas utilizadas\n",
        "\n",
        "import pandas as pd\n",
        "import pandera as pa\n",
        "import numpy as np"
      ]
    },
    {
      "cell_type": "code",
      "source": [
        "# Configurando Pandas, para exibir até 100 colunas por consulta\n",
        "\n",
        "pd.set_option('display.max_columns', 100)"
      ],
      "metadata": {
        "id": "Pvbx9bBq6yMb"
      },
      "execution_count": 15,
      "outputs": []
    },
    {
      "cell_type": "code",
      "source": [
        "# Importando dataframe\n",
        "\n",
        "df = pd.read_csv('/content/marketing_campaign.csv', sep =';', parse_dates = ['Dt_Customer'])"
      ],
      "metadata": {
        "id": "N8dWB65N5GXo"
      },
      "execution_count": 16,
      "outputs": []
    },
    {
      "cell_type": "code",
      "source": [
        "# Definindo DF para backup\n",
        "\n",
        "dfbackup = df.copy()"
      ],
      "metadata": {
        "id": "Q487SRx96AYo"
      },
      "execution_count": 17,
      "outputs": []
    },
    {
      "cell_type": "markdown",
      "source": [
        "## Documentação\n",
        "\n",
        "\n",
        "1.   Base de dados relacionada a campanha de marketing de empresa varejista nos Estados Unidos\n",
        "2.   Base de dados coletada até 2014\n",
        "3.   Conforme instrução, dados deverão ser traduzidos para Português\n",
        "4.   Explicação do schema (em Português):\n",
        "\n",
        "\n",
        "      - ano_nasc: Ano de nascimento do cliente\n",
        "      - escolaridade: Nível de escolaridade\n",
        "      - estado_civil: Estado civil\n",
        "      - cadastro: Data do cadastro como cliente\n",
        "      - renda: Renda anual em USD\n",
        "      - criancas_casa: Quantidade de criaças vivendo com cliente\n",
        "      - adolescentes_casa: Quantidade de adolescentes vivendo com cliente\n",
        "      - ultima_compra: Dias desde última compra\n",
        "      - gasto_vinho: Gasto com vinhos em USD\n",
        "      - gasto_frutas: Gasto com frutas em USD\n",
        "      - gasto_carnes: Gasto com carnes em USD\n",
        "      - gasto_peixes: Gasto com peixes em USD\n",
        "      - gasto_doces: Gasto com doces em USD\n",
        "      - gasto_gold: Gasto com produtos Gold em USD\n",
        "      - compras_comdesconto: Quantidade de compras realizadas com desconto (por cliente)\n",
        "      - compras_web: Quantidade de compras realizadas pela Web (por cliente)\n",
        "      - compras_catalogo: Quantidade de compras realizadas por catálogo (por cliente)\n",
        "      - compras_direto_loja: Quantidade de compras realizadas diretamente na loja (por cliente)\n",
        "      - visitas_website: Quantidade de visitas ao website da loja (por cliente)\n",
        "      - campanha_1: 1 se consumidor aceitou a oferta da primeira campanha promocional, 0 se não tiver aceitado\n",
        "      - campanha_2: 1 se consumidor aceitou a oferta da segunda campanha promocional, 0 se não tiver aceitado\n",
        "      - campanha_3: 1 se consumidor aceitou a oferta da terceira campanha promocional, 0 se não tiver aceitado\n",
        "      - campanha_4: 1 se consumidor aceitou a oferta da quarta campanha promocional, 0 se não tiver aceitado\n",
        "      - resposta_ultima_campanha: 1 se consumidor aceitou a oferta da última campanha promocional, 0 se não tiver aceitado\n",
        "      - reclamacao_2anos: 1 se consumidor fez reclamação nos últimos 2 anos"
      ],
      "metadata": {
        "id": "cHpZFOhe-GBk"
      }
    },
    {
      "cell_type": "markdown",
      "source": [
        "Pré-visualização"
      ],
      "metadata": {
        "id": "2WjNNQ4FAUDp"
      }
    },
    {
      "cell_type": "code",
      "source": [
        "df.info()"
      ],
      "metadata": {
        "id": "zDmKwUUYAZSW"
      },
      "execution_count": null,
      "outputs": []
    },
    {
      "cell_type": "markdown",
      "source": [
        "Transformação tabela"
      ],
      "metadata": {
        "id": "vD46VymFAbJg"
      }
    },
    {
      "cell_type": "code",
      "source": [
        "# Análise do campo ID, para torná-lo Index da tabela\n",
        "\n",
        "df.groupby(['ID']).size().sort_values(ascending = False)\n",
        "\n",
        "### INCONSISTÊNCIA ENCONTRADA: EXISTE ID = 0\n",
        "### OBS: optou-se por deixar como 0, para não excluir linha (cadastro é legítimo)"
      ],
      "metadata": {
        "id": "QWV8kz-QAe93"
      },
      "execution_count": null,
      "outputs": []
    },
    {
      "cell_type": "code",
      "source": [
        "# Tornar ID Index\n",
        "\n",
        "df.set_index('ID', inplace = True)"
      ],
      "metadata": {
        "id": "XEpRfnAdAyTi"
      },
      "execution_count": 21,
      "outputs": []
    },
    {
      "cell_type": "code",
      "source": [
        "# Drop colunas 'Z_CostContact' e 'Z_Revenue' (Apresentam valores constantes/ Não há explicação na documentação)\n",
        "\n",
        "df.drop(['Z_CostContact', 'Z_Revenue'], axis = 1, inplace = True)"
      ],
      "metadata": {
        "id": "I6UW_dlHA7c4"
      },
      "execution_count": 24,
      "outputs": []
    },
    {
      "cell_type": "code",
      "source": [
        "#Traduzindo nomes das colunas\n",
        "\n",
        "df.rename(columns={\n",
        "    'Year_Birth':'ano_nasc',\n",
        "    'Education':'escolaridade',\n",
        "    'Marital_Status':'estado_civil',\n",
        "    'Income':'renda',\n",
        "    'Kidhome':'criancas_casa',\n",
        "    'Teenhome':'adolescentes_casa',\n",
        "    'Dt_Customer':'cadastro',\n",
        "    'Recency':'ultima_compra',\n",
        "    'MntWines':'gasto_vinho',\n",
        "    'MntFruits':'gasto_frutas',\n",
        "    'MntMeatProducts':'gasto_carnes',\n",
        "    'MntFishProducts':'gasto_peixes',\n",
        "    'MntSweetProducts':'gasto_doces',\n",
        "    'MntGoldProds':'gasto_gold',\n",
        "    'NumDealsPurchases':'compras_comdesconto',\n",
        "    'NumWebPurchases':'compras_web',\n",
        "    'NumCatalogPurchases':'compras_catalogo',\n",
        "    'NumStorePurchases':'compras_direto_loja',\n",
        "    'NumWebVisitsMonth':'visitas_website',\n",
        "    'AcceptedCmp1':'campanha_1',\n",
        "    'AcceptedCmp2':'campanha_2',\n",
        "    'AcceptedCmp3':'campanha_3',\n",
        "    'AcceptedCmp4':'campanha_4',\n",
        "    'AcceptedCmp5':'campanha_5',\n",
        "    'Response':'resposta_ultima_campanha',\n",
        "    'Complain':'reclamacao_2anos'\n",
        "    },inplace = True)"
      ],
      "metadata": {
        "id": "ZAJf9SMBBCz1"
      },
      "execution_count": 26,
      "outputs": []
    },
    {
      "cell_type": "markdown",
      "source": [
        "Tradução dados colunas 'escolaridade' e 'estado_civil'"
      ],
      "metadata": {
        "id": "BzFo8wh3B0cX"
      }
    },
    {
      "cell_type": "code",
      "source": [
        "pd.unique(df['escolaridade'])"
      ],
      "metadata": {
        "colab": {
          "base_uri": "https://localhost:8080/"
        },
        "id": "hcqkvY9dBzLg",
        "outputId": "93586afc-5845-4e28-d000-6a3cce49f91c"
      },
      "execution_count": 29,
      "outputs": [
        {
          "output_type": "execute_result",
          "data": {
            "text/plain": [
              "array(['Graduation', 'PhD', 'Master', 'Basic', '2n Cycle'], dtype=object)"
            ]
          },
          "metadata": {},
          "execution_count": 29
        }
      ]
    },
    {
      "cell_type": "code",
      "source": [
        "# Dados 'escolaridade'\n",
        "df.replace(['Graduation'], 'Pré-Graduação', inplace = True)\n",
        "df.replace(['PhD'], 'Doutorado', inplace = True)\n",
        "df.replace(['Master'], 'Mestrado', inplace = True)\n",
        "df.replace(['Basic'], 'Ensino Básico', inplace = True)\n",
        "df.replace(['2n Cycle'], 'Segundo ciclo', inplace = True)"
      ],
      "metadata": {
        "id": "2uyIJPcMB5Z_"
      },
      "execution_count": 30,
      "outputs": []
    },
    {
      "cell_type": "code",
      "source": [
        "pd.unique(df['estado_civil'])"
      ],
      "metadata": {
        "colab": {
          "base_uri": "https://localhost:8080/"
        },
        "id": "GdyWOebTCF5e",
        "outputId": "800c243b-7808-4749-dafc-3ce4c7b3efad"
      },
      "execution_count": 31,
      "outputs": [
        {
          "output_type": "execute_result",
          "data": {
            "text/plain": [
              "array(['Single', 'Together', 'Married', 'Divorced', 'Widow', 'Alone',\n",
              "       'Absurd', 'YOLO'], dtype=object)"
            ]
          },
          "metadata": {},
          "execution_count": 31
        }
      ]
    },
    {
      "cell_type": "code",
      "source": [
        "# Observação: por recomendação expressa da empresa (aka professor), decidiu-se não transformar os valores \"YOLO\" e \"Alone\" em \"Solteiro\", tampouco transformar \"Absurd\" em NA\n",
        "# Com isso, procura-se manter a fidelidade dos dados o máximo possível\n",
        "# Em uma versão anterior desse trabalho, essas alterações haviam sido feitas\n",
        "\n",
        "df.replace(['Single'],'Solteiro/a', inplace = True)\n",
        "df.replace(['Married'],'Casado/a', inplace = True)\n",
        "df.replace(['Together'],'Vivendo com companheiro/a', inplace = True)\n",
        "df.replace(['Divorced'],'Divorciado/a', inplace = True)\n",
        "df.replace(['Widow'],'Viuvo/a', inplace = True)\n",
        "df.replace(['Alone'], 'Sozinho(a)', inplace = True)\n",
        "df.replace(['Absurd'], 'Absurdo', inplace = True)\n",
        "# Dado \"YOLO\" será mantido como tal (Trata-se de uma sigla em inglês que traduzida corresponderia a \"Só se vive uma vez\")"
      ],
      "metadata": {
        "id": "aX2gMe6ZCHcm"
      },
      "execution_count": 32,
      "outputs": []
    },
    {
      "cell_type": "markdown",
      "source": [
        "Validação dos dados da tabela (utilizando biblioteca Pandera)"
      ],
      "metadata": {
        "id": "6AieFhW1Doyq"
      }
    },
    {
      "cell_type": "code",
      "source": [
        "schema = pa.DataFrameSchema(\n",
        "    columns = {\n",
        "       'ano_nasc': pa.Column(pa.Int),\n",
        "       'escolaridade': pa.Column(pa.String),\n",
        "       'estado_civil': pa.Column(pa.String, nullable = True),\n",
        "       'renda': pa.Column(pa.Float, nullable = True),\n",
        "       'criancas_casa': pa.Column(pa.Int),\n",
        "       'adolescentes_casa': pa.Column(pa.Int),\n",
        "       'cadastro': pa.Column(pa.DateTime),\n",
        "       'ultima_compra': pa.Column(pa.Int),\n",
        "       'gasto_vinho': pa.Column(pa.Int),\n",
        "       'gasto_frutas': pa.Column(pa.Int),\n",
        "       'gasto_carnes': pa.Column(pa.Int),\n",
        "       'gasto_peixes': pa.Column(pa.Int),\n",
        "       'gasto_doces': pa.Column(pa.Int),\n",
        "       'gasto_gold': pa.Column(pa.Int),\n",
        "       'compras_comdesconto': pa.Column(pa.Int),\n",
        "       'compras_web': pa.Column(pa.Int),\n",
        "       'compras_catalogo': pa.Column(pa.Int),\n",
        "       'compras_direto_loja': pa.Column(pa.Int),\n",
        "       'visitas_website': pa.Column(pa.Int),\n",
        "       'campanha_1': pa.Column(pa.Int),\n",
        "       'campanha_2': pa.Column(pa.Int),\n",
        "       'campanha_3': pa.Column(pa.Int),\n",
        "       'campanha_4': pa.Column(pa.Int),\n",
        "       'resposta_ultima_campanha': pa.Column(pa.Int),\n",
        "       'reclamacao_2anos': pa.Column(pa.Int),\n",
        "    }\n",
        ")"
      ],
      "metadata": {
        "id": "xaLkVB2mDnHG"
      },
      "execution_count": 37,
      "outputs": []
    },
    {
      "cell_type": "code",
      "source": [
        "schema.validate(df)\n",
        "\n",
        "# Inconsistências encontradas:\n",
        "# estado_civil <NA> : IDs 7734, 4369\n",
        "# renda NaN: 24 IDs"
      ],
      "metadata": {
        "id": "ZiInWv6hEFuG"
      },
      "execution_count": null,
      "outputs": []
    },
    {
      "cell_type": "markdown",
      "source": [
        "Tratamento (análise de valores)"
      ],
      "metadata": {
        "id": "YRbO7PUyErZY"
      }
    },
    {
      "cell_type": "code",
      "source": [
        "df.info()"
      ],
      "metadata": {
        "id": "h8upgwmmE2c0"
      },
      "execution_count": null,
      "outputs": []
    },
    {
      "cell_type": "code",
      "source": [
        "pd.unique(df['campanha_1']) #OK"
      ],
      "metadata": {
        "id": "NxIq6POJFB1W"
      },
      "execution_count": null,
      "outputs": []
    },
    {
      "cell_type": "code",
      "source": [
        "pd.unique(df['campanha_2']) #OK"
      ],
      "metadata": {
        "id": "pVyiopdLFFXE"
      },
      "execution_count": null,
      "outputs": []
    },
    {
      "cell_type": "code",
      "source": [
        "pd.unique(df['campanha_3']) #OK"
      ],
      "metadata": {
        "id": "IPbFk0vCFJ5c"
      },
      "execution_count": null,
      "outputs": []
    },
    {
      "cell_type": "code",
      "source": [
        "pd.unique(df['campanha_4']) #OK"
      ],
      "metadata": {
        "id": "M8Vxe4obFNhp"
      },
      "execution_count": null,
      "outputs": []
    },
    {
      "cell_type": "code",
      "source": [
        "pd.unique(df['ano_nasc'])\n",
        "\n",
        "# Dados duvidosos: 1900/ 1899/ 1893\n",
        "# Observação: por recomendação expressa da empresa (aka professor), decidiu-se deletar os registros que continham esses anos de nascimento, para evitar eventuais problemas na análise dos dados\n",
        "# Em uma versão anterior do trabalho optou-se por tornar os valores NaN"
      ],
      "metadata": {
        "id": "m_mSbmO0FPDB"
      },
      "execution_count": null,
      "outputs": []
    },
    {
      "cell_type": "code",
      "source": [
        "df.loc[df.ano_nasc == 1900] # ID 7829"
      ],
      "metadata": {
        "id": "H4fi3HYrJgCt"
      },
      "execution_count": null,
      "outputs": []
    },
    {
      "cell_type": "code",
      "source": [
        "df.loc[df.ano_nasc == 1899] # ID 1150"
      ],
      "metadata": {
        "id": "tgrz19UeKXm9"
      },
      "execution_count": null,
      "outputs": []
    },
    {
      "cell_type": "code",
      "source": [
        "df.loc[df.ano_nasc == 1893] # ID 11004"
      ],
      "metadata": {
        "id": "Zu_6Qo-XKYbW"
      },
      "execution_count": null,
      "outputs": []
    },
    {
      "cell_type": "code",
      "source": [
        "df.drop([7829, 1150, 11004], axis = 0, inplace = True)"
      ],
      "metadata": {
        "id": "mkdS3mFyGgbS"
      },
      "execution_count": 65,
      "outputs": []
    },
    {
      "cell_type": "code",
      "source": [
        "pd.unique(df['criancas_casa']) #OK"
      ],
      "metadata": {
        "id": "P9etmrYGK3lx"
      },
      "execution_count": null,
      "outputs": []
    },
    {
      "cell_type": "code",
      "source": [
        "pd.unique(df['adolescentes_casa']) #OK"
      ],
      "metadata": {
        "id": "Bq-hbMcOK70_"
      },
      "execution_count": null,
      "outputs": []
    },
    {
      "cell_type": "code",
      "source": [
        "pd.unique(df['renda'])"
      ],
      "metadata": {
        "id": "8bKiMB0BLGlW"
      },
      "execution_count": null,
      "outputs": []
    },
    {
      "cell_type": "code",
      "source": [
        "df.groupby(['renda']).size().sort_values(ascending = True)"
      ],
      "metadata": {
        "id": "ol3lMMqNLIez"
      },
      "execution_count": null,
      "outputs": []
    },
    {
      "cell_type": "code",
      "source": [
        "pd.unique(df['ultima_compra']) #OK"
      ],
      "metadata": {
        "id": "76dUEnn5LZkW"
      },
      "execution_count": null,
      "outputs": []
    },
    {
      "cell_type": "code",
      "source": [
        "pd.unique(df['gasto_vinho'])\n",
        "\n",
        "# Observação: questionou-se a equipe se seria possível gastar 1 ou 2 USD com vinho, e ela afirmou que sim."
      ],
      "metadata": {
        "id": "bke759M6LnZ8"
      },
      "execution_count": null,
      "outputs": []
    },
    {
      "cell_type": "code",
      "source": [
        "pd.unique(df['gasto_frutas']) #OK"
      ],
      "metadata": {
        "id": "e53NSTIsL0hq"
      },
      "execution_count": null,
      "outputs": []
    },
    {
      "cell_type": "code",
      "source": [
        "pd.unique(df['gasto_carnes']) #OK"
      ],
      "metadata": {
        "id": "qzfeChTmL169"
      },
      "execution_count": null,
      "outputs": []
    },
    {
      "cell_type": "code",
      "source": [
        "pd.unique(df['gasto_peixes'])\n",
        "\n",
        "# Observação: questionou-se a equipe se seria possível gastar 1 ou 2 USD com peixes, e ela afirmou que sim."
      ],
      "metadata": {
        "id": "-TLcd27tL37I"
      },
      "execution_count": null,
      "outputs": []
    },
    {
      "cell_type": "code",
      "source": [
        "pd.unique(df['gasto_doces']) #OK"
      ],
      "metadata": {
        "id": "UToNuqDDL9KI"
      },
      "execution_count": null,
      "outputs": []
    },
    {
      "cell_type": "code",
      "source": [
        "pd.unique(df['gasto_gold']) #OK"
      ],
      "metadata": {
        "id": "lKKD6RiRL96I"
      },
      "execution_count": null,
      "outputs": []
    },
    {
      "cell_type": "code",
      "source": [
        "pd.unique(df['compras_comdesconto']) #OK"
      ],
      "metadata": {
        "id": "fO1w2wCrL-_C"
      },
      "execution_count": null,
      "outputs": []
    },
    {
      "cell_type": "code",
      "source": [
        "pd.unique(df['compras_web']) #OK"
      ],
      "metadata": {
        "id": "5TzqwBfhMAQ9"
      },
      "execution_count": null,
      "outputs": []
    },
    {
      "cell_type": "code",
      "source": [
        "pd.unique(df['compras_catalogo']) #OK"
      ],
      "metadata": {
        "id": "NXp5DJL2MCMq"
      },
      "execution_count": null,
      "outputs": []
    },
    {
      "cell_type": "code",
      "source": [
        "pd.unique(df['compras_direto_loja']) #OK"
      ],
      "metadata": {
        "id": "cqrekrjdMDDu"
      },
      "execution_count": null,
      "outputs": []
    },
    {
      "cell_type": "code",
      "source": [
        "pd.unique(df['visitas_website']) #OK"
      ],
      "metadata": {
        "id": "s6kiE_l_MEBx"
      },
      "execution_count": null,
      "outputs": []
    },
    {
      "cell_type": "code",
      "source": [
        "pd.unique(df['resposta_ultima_campanha']) #OK"
      ],
      "metadata": {
        "id": "CrcSGQA9MEXw"
      },
      "execution_count": null,
      "outputs": []
    },
    {
      "cell_type": "code",
      "source": [
        "pd.unique(df['reclamacao_2anos']) #OK"
      ],
      "metadata": {
        "id": "odFw8AYVMGah"
      },
      "execution_count": null,
      "outputs": []
    },
    {
      "cell_type": "markdown",
      "source": [
        "Análise / Plotagem (breve)\n",
        "\n",
        "Equipe (aka eu) possui três objetivos:\n",
        "\n",
        "1.   Saber quantas vezes os consumidores que consomem mais vinho (gasto > 500 USD) fizeram compras pela WEB;\n",
        "2.   Saber quantos consumidores menores de 21 anos compraram vinho, ferindo a legislação local;\n",
        "3.   Saber se clientes que possuem menores de 18 anos (crianças e adolescentes) em casa aderiram à última campanha promocional."
      ],
      "metadata": {
        "id": "hMRt739xMG92"
      }
    },
    {
      "cell_type": "code",
      "source": [
        "# Objetivo 1\n",
        "\n",
        "filtrovinho = df.gasto_vinho > 500\n",
        "dfvinho = df.loc[filtrovinho]\n",
        "dfvinho.groupby(['compras_web']).size().plot.bar(xlabel = 'Quantidade de compras', ylabel = 'Número de clientes')"
      ],
      "metadata": {
        "colab": {
          "base_uri": "https://localhost:8080/",
          "height": 299
        },
        "id": "AlY7R48WMhQn",
        "outputId": "433e300b-921b-4031-c7f0-297f0c4bf8c7"
      },
      "execution_count": 85,
      "outputs": [
        {
          "output_type": "execute_result",
          "data": {
            "text/plain": [
              "<matplotlib.axes._subplots.AxesSubplot at 0x7f21745601c0>"
            ]
          },
          "metadata": {},
          "execution_count": 85
        },
        {
          "output_type": "display_data",
          "data": {
            "text/plain": [
              "<Figure size 432x288 with 1 Axes>"
            ],
            "image/png": "[encoded data removed]"
          },
          "metadata": {
            "needs_background": "light"
          }
        }
      ]
    },
    {
      "cell_type": "code",
      "source": [
        "df.dtypes"
      ],
      "metadata": {
        "colab": {
          "base_uri": "https://localhost:8080/"
        },
        "id": "_r3XdxBFRXRq",
        "outputId": "cff66c1a-6df2-4be7-c3ae-a21be80d7af0"
      },
      "execution_count": 98,
      "outputs": [
        {
          "output_type": "execute_result",
          "data": {
            "text/plain": [
              "ano_nasc                             int64\n",
              "escolaridade                        object\n",
              "estado_civil                        object\n",
              "renda                              float64\n",
              "criancas_casa                        int64\n",
              "adolescentes_casa                    int64\n",
              "cadastro                    datetime64[ns]\n",
              "ultima_compra                        int64\n",
              "gasto_vinho                          int64\n",
              "gasto_frutas                         int64\n",
              "gasto_carnes                         int64\n",
              "gasto_peixes                         int64\n",
              "gasto_doces                          int64\n",
              "gasto_gold                           int64\n",
              "compras_comdesconto                  int64\n",
              "compras_web                          int64\n",
              "compras_catalogo                     int64\n",
              "compras_direto_loja                  int64\n",
              "visitas_website                      int64\n",
              "campanha_3                           int64\n",
              "campanha_4                           int64\n",
              "campanha_5                           int64\n",
              "campanha_1                           int64\n",
              "campanha_2                           int64\n",
              "reclamacao_2anos                     int64\n",
              "resposta_ultima_campanha             int64\n",
              "dtype: object"
            ]
          },
          "metadata": {},
          "execution_count": 98
        }
      ]
    },
    {
      "cell_type": "code",
      "source": [
        "# Objetivo 2\n",
        "\n",
        "# Filtrar clientes menores de 18 anos em 2014 (dataset de 2014)\n",
        "filtro_menores21 = df.ano_nasc > 1994\n",
        "df_menores21 = df.loc[filtro_menores21]"
      ],
      "metadata": {
        "id": "RLHMCRuROTpm"
      },
      "execution_count": 108,
      "outputs": []
    },
    {
      "cell_type": "code",
      "source": [
        "# Número de menores de 21 anos cadastrados\n",
        "\n",
        "df_menores21.shape # Foram 7 cadastros ao todo"
      ],
      "metadata": {
        "id": "rVSTmPfpTQfc"
      },
      "execution_count": null,
      "outputs": []
    },
    {
      "cell_type": "code",
      "source": [
        "df_menores21.groupby(['gasto_vinho']).size().sort_values()\n",
        "\n",
        "# Desses, somente 1 não consumiu vinho (aprox. 14%)"
      ],
      "metadata": {
        "id": "plaJbc2rTuu_"
      },
      "execution_count": null,
      "outputs": []
    },
    {
      "cell_type": "code",
      "source": [
        "df_menores21"
      ],
      "metadata": {
        "id": "KfB6uWzrR21x"
      },
      "execution_count": null,
      "outputs": []
    },
    {
      "cell_type": "code",
      "source": [
        "# Objetivo 3\n",
        "\n",
        "fitro_criancas = df.criancas_casa >= 1\n",
        "filtro_adolescentes = df.adolescentes_casa >=1\n",
        "\n",
        "dfmenores = df.loc[fitro_criancas & filtro_adolescentes]\n",
        "dfmenores.groupby(['resposta_ultima_campanha']).size().plot.pie(ylabel = '1 = \"SIM\"')"
      ],
      "metadata": {
        "colab": {
          "base_uri": "https://localhost:8080/",
          "height": 265
        },
        "id": "zEwlZ-dfOks9",
        "outputId": "ced28983-1170-4f21-df9e-1a518de5685e"
      },
      "execution_count": 93,
      "outputs": [
        {
          "output_type": "execute_result",
          "data": {
            "text/plain": [
              "<matplotlib.axes._subplots.AxesSubplot at 0x7f2173fbce20>"
            ]
          },
          "metadata": {},
          "execution_count": 93
        },
        {
          "output_type": "display_data",
          "data": {
            "text/plain": [
              "<Figure size 432x288 with 1 Axes>"
            ],
            "image/png": "[encoded data removed]"
          },
          "metadata": {}
        }
      ]
    },
    {
      "cell_type": "markdown",
      "source": [
        "Validação final"
      ],
      "metadata": {
        "id": "79k6X04UMlFC"
      }
    },
    {
      "cell_type": "code",
      "source": [
        "schema = pa.DataFrameSchema(\n",
        "    columns = {\n",
        "       'ano_nasc': pa.Column(pa.Int),\n",
        "       'escolaridade': pa.Column(pa.String),\n",
        "       'estado_civil': pa.Column(pa.String, nullable = True),\n",
        "       'renda': pa.Column(pa.Float, nullable = True),\n",
        "       'criancas_casa': pa.Column(pa.Int),\n",
        "       'adolescentes_casa': pa.Column(pa.Int),\n",
        "       'cadastro': pa.Column(pa.DateTime),\n",
        "       'ultima_compra': pa.Column(pa.Int),\n",
        "       'gasto_vinho': pa.Column(pa.Int),\n",
        "       'gasto_frutas': pa.Column(pa.Int),\n",
        "       'gasto_carnes': pa.Column(pa.Int),\n",
        "       'gasto_peixes': pa.Column(pa.Int),\n",
        "       'gasto_doces': pa.Column(pa.Int),\n",
        "       'gasto_gold': pa.Column(pa.Int),\n",
        "       'compras_comdesconto': pa.Column(pa.Int),\n",
        "       'compras_web': pa.Column(pa.Int),\n",
        "       'compras_catalogo': pa.Column(pa.Int),\n",
        "       'compras_direto_loja': pa.Column(pa.Int),\n",
        "       'visitas_website': pa.Column(pa.Int),\n",
        "       'campanha_1': pa.Column(pa.Int),\n",
        "       'campanha_2': pa.Column(pa.Int),\n",
        "       'campanha_3': pa.Column(pa.Int),\n",
        "       'campanha_4': pa.Column(pa.Int),\n",
        "       'resposta_ultima_campanha': pa.Column(pa.Int),\n",
        "       'reclamacao_2anos': pa.Column(pa.Int),\n",
        "    }\n",
        ")"
      ],
      "metadata": {
        "id": "J5rEQ5q9MnNG"
      },
      "execution_count": 78,
      "outputs": []
    },
    {
      "cell_type": "code",
      "source": [
        "schema.validate(df)"
      ],
      "metadata": {
        "id": "8qnwsJ1xMr5b"
      },
      "execution_count": null,
      "outputs": []
    },
    {
      "cell_type": "markdown",
      "source": [
        "Exportação dos dados"
      ],
      "metadata": {
        "id": "g-xigIIZMxB9"
      }
    },
    {
      "cell_type": "code",
      "source": [
        "df.to_csv('campanha_dados_tratados.csv')\n",
        "#Observação: optou-se propositalmente por deixar o index = True"
      ],
      "metadata": {
        "id": "w57OuJcwMt_u"
      },
      "execution_count": 97,
      "outputs": []
    }
  ]
}